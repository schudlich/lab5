{
 "cells": [
  {
   "cell_type": "markdown",
   "id": "3cfc21bb",
   "metadata": {},
   "source": [
    "1. <?xml version=\"1.0\" encoding=\"UTF-8\"?>\n",
    "2. Aliasing a library, especially one with a long name, makes it easier to call functions included in the library by giving them shorter, more readable names.\n"
   ]
  },
  {
   "cell_type": "code",
   "execution_count": 19,
   "id": "335f9845",
   "metadata": {},
   "outputs": [
    {
     "name": "stdout",
     "output_type": "stream",
     "text": [
      "running with Python's xml.etree.ElementTree\n",
      "<class 'xml.etree.ElementTree.Element'> {http://ead3.archivists.org/schema/}did \n",
      "    \n",
      "<class 'xml.etree.ElementTree.Element'> {http://ead3.archivists.org/schema/}scopecontent \n",
      "    \n",
      "<class 'xml.etree.ElementTree.Element'> {http://ead3.archivists.org/schema/}bioghist \n",
      "    \n",
      "<class 'xml.etree.ElementTree.Element'> {http://ead3.archivists.org/schema/}accessrestrict \n",
      "    \n",
      "<class 'xml.etree.ElementTree.Element'> {http://ead3.archivists.org/schema/}userestrict \n",
      "    \n",
      "<class 'xml.etree.ElementTree.Element'> {http://ead3.archivists.org/schema/}prefercite \n",
      "    \n",
      "<class 'xml.etree.ElementTree.Element'> {http://ead3.archivists.org/schema/}controlaccess \n",
      "    \n",
      "<class 'xml.etree.ElementTree.Element'> {http://ead3.archivists.org/schema/}dsc None\n"
     ]
    }
   ],
   "source": [
    "from pathlib import Path\n",
    "try:\n",
    "    from lxml import etree\n",
    "    print(\"running with lxml.etree\")\n",
    "except ImportError:\n",
    "    import xml.etree.ElementTree as ET\n",
    "    print(\"running with Python's xml.etree.ElementTree\")\n",
    "\n",
    "finding_aid_path = Path('.','si676-2025-data-main/', 'data', 'xml', 'day_20221004_205435_UTC__ead.xml')\n",
    "if finding_aid_path.is_file():\n",
    "    tree = ET.parse(finding_aid_path)\n",
    "    root = tree.getroot()\n",
    "else:\n",
    "    print(f\"File not found: {finding_aid_path}\")\n",
    "    tree = None\n",
    "    root = None\n",
    "\n",
    "archDesc = tree.find('{http://ead3.archivists.org/schema/}archdesc')\n",
    "for element in archDesc:\n",
    "    print(type(element), element.tag, element.text)"
   ]
  },
  {
   "cell_type": "markdown",
   "id": "82362acb",
   "metadata": {},
   "source": [
    "## Question 4\n",
    "\n",
    "Admittedly, the prefixed namespaces have me stumped. From my understanding, defining a namespace provides an array of places to pull metadata attributes from (e.g., DublinCore) to make sure XML formatted metadata is consistent across resources and collections."
   ]
  },
  {
   "cell_type": "code",
   "execution_count": 96,
   "id": "36caf9e1",
   "metadata": {},
   "outputs": [
    {
     "name": "stdout",
     "output_type": "stream",
     "text": [
      "You have already saved some DublinCore metadata!\n"
     ]
    }
   ],
   "source": [
    "\n",
    "ns = {\n",
    "    'ex': 'http://www.example.org/',\n",
    "    'dcterms': 'http://purl.archive.org/dc/terms/',\n",
    "    'rdf': 'https://www.w3.org/1999/02/22-rdf-syntax-ns#',\n",
    "    'rdfs': 'https://www.w3.org/2000/01/rdf-schema#',\n",
    "    'xsd': 'http://www.w3.org/2001/XMLSchema#'\n",
    "}\n",
    "\n",
    "fpath_simple_dc_record = Path('..','data','simple_dc_record.xml')\n",
    "\n",
    "if fpath_simple_dc_record.is_file():\n",
    "    print('You have already saved some DublinCore metadata!')\n",
    "else:\n",
    "    print('No file located')"
   ]
  },
  {
   "cell_type": "code",
   "execution_count": 94,
   "id": "ea66c41b",
   "metadata": {},
   "outputs": [],
   "source": [
    "metadata = etree.Element(f'{{{ns['dcterms']}}}metadata', nsmap=ns)\n",
    "\n",
    "title = etree.SubElement(metadata, f'{{{ns['dcterms']}}}title')\n",
    "title.text = \"Oldsmobiles Crossing the Mackinac Bridge\"\n",
    "\n",
    "identifier = etree.SubElement(metadata, f'{{{ns['dcterms']}}}identifier')\n",
    "identifier.text = \"2017-03-001.007.052\"\n",
    "\n",
    "source = etree.SubElement(metadata, f'{{{ns['dcterms']}}}source')\n",
    "source.text = \"https://cadl.catalogaccess.com/archives/11662\"\n",
    "\n",
    "provenance = etree.SubElement(metadata, f'{{{ns['dcterms']}}}provenance')\n",
    "provenance.text = \"https://www.cadl.org\"\n",
    "\n",
    "provenanceStatement = etree.SubElement(metadata, f'{{{ns['dcterms']}}}provenanceStatement')\n",
    "provenanceStatement.text = \"Original shared by the Capital Area District Libraries (CADL)\"\n",
    "\n",
    "creators = ['Oldsmobile History Center', 'https://cadl.catalogaccess.com/people/1320']\n",
    "for creator in creators:\n",
    "  creator_elem = etree.SubElement(metadata, f'{{{ns['dcterms']}}}creator')\n",
    "  creator_elem.text = creator\n",
    "\n",
    "created = etree.SubElement(metadata, f'{{{ns['dcterms']}}}created')\n",
    "created.text = \"Unknown\"\n",
    "\n",
    "date = etree.SubElement(metadata, f'{{{ns['dcterms']}}}date')\n",
    "date.text = \"1960s/1970s\"\n",
    "\n",
    "subjects = ['Lansing (Mich.)', 'Ingham County (Mich.)', 'Parades & processions', 'Oldsmobile automobile', 'Mackinac Bridge', 'Bridges', 'Cars']\n",
    "for subject in subjects:\n",
    "  subj_elem = etree.SubElement(metadata, f'{{{ns['dcterms']}}}subject')\n",
    "  subj_elem.text = subject\n",
    "\n",
    "rights_ls = ['Copyright Not Evaluated', 'http://rightsstatements.org/vocab/CNE/1.0/']\n",
    "for right in rights_ls:\n",
    "  right_elem = etree.SubElement(metadata, f'{{{ns['dcterms']}}}rights')\n",
    "  right_elem.text = right"
   ]
  },
  {
   "cell_type": "code",
   "execution_count": 95,
   "id": "ccdd2d1d",
   "metadata": {},
   "outputs": [
    {
     "name": "stdout",
     "output_type": "stream",
     "text": [
      "wrote your metadata!\n"
     ]
    }
   ],
   "source": [
    "\n",
    "# simple_dc_record = Path(\"../data/simple_dc_record.xml\")\n",
    "fpath_simple_dc_record = Path('.','data','simple_dc_record.xml')\n",
    "\n",
    "# make sure parent dir exists\n",
    "fpath_simple_dc_record.parent.mkdir(parents=True, exist_ok=True)\n",
    "\n",
    "# build an ElementTree using the same module used to create `metadata`\n",
    "tree = etree.ElementTree(metadata)\n",
    "\n",
    "# write to file (use Path.open to avoid Path.write confusion)\n",
    "with fpath_simple_dc_record.open('wb') as fh:\n",
    "    tree.write(fh, xml_declaration=True, encoding='utf-8')\n",
    "\n",
    "# confirm\n",
    "if fpath_simple_dc_record.is_file():\n",
    "    print('wrote your metadata!')"
   ]
  },
  {
   "cell_type": "code",
   "execution_count": 101,
   "id": "5d3147da",
   "metadata": {},
   "outputs": [
    {
     "name": "stdout",
     "output_type": "stream",
     "text": [
      "<ns0:metadata xmlns:ns0=\"http://purl.archive.org/dc/terms/\" nsmap=\"{'ex': 'http://www.example.org/', 'dcterms': 'http://purl.archive.org/dc/terms/', 'rdf': 'https://www.w3.org/1999/02/22-rdf-syntax-ns#', 'rdfs': 'https://www.w3.org/2000/01/rdf-schema#', 'xsd': 'http://www.w3.org/2001/XMLSchema#'}\"><ns0:title>Oldsmobiles Crossing the Mackinac Bridge</ns0:title><ns0:identifier>2017-03-001.007.052</ns0:identifier><ns0:source>https://cadl.catalogaccess.com/archives/11662</ns0:source><ns0:provenance>https://www.cadl.org</ns0:provenance><ns0:provenanceStatement>Original shared by the Capital Area District Libraries (CADL)</ns0:provenanceStatement><ns0:creator>Oldsmobile History Center</ns0:creator><ns0:creator>https://cadl.catalogaccess.com/people/1320</ns0:creator><ns0:created>Unknown</ns0:created><ns0:date>1960s/1970s</ns0:date><ns0:subject>Lansing (Mich.)</ns0:subject><ns0:subject>Ingham County (Mich.)</ns0:subject><ns0:subject>Parades &amp; processions</ns0:subject><ns0:subject>Oldsmobile automobile</ns0:subject><ns0:subject>Mackinac Bridge</ns0:subject><ns0:subject>Bridges</ns0:subject><ns0:subject>Cars</ns0:subject><ns0:rights>Copyright Not Evaluated</ns0:rights><ns0:rights>http://rightsstatements.org/vocab/CNE/1.0/</ns0:rights></ns0:metadata>"
     ]
    }
   ],
   "source": [
    "\n",
    "import pprint\n",
    "\n",
    "\n",
    "XML_metadata_object = etree.tostring(metadata, encoding='utf-8')\n",
    "print(XML_metadata_object.decode(), end='')"
   ]
  },
  {
   "cell_type": "markdown",
   "id": "c2e9c28e",
   "metadata": {},
   "source": [
    "Admittedly, I'm not sure why the dcterms portion of each xml tag is showing up as ns0. I notice that some of the attributes like creator are listed under the elements/1.1 namespace. I also wonder if some of the issues I was running into are because of the issues I was having with etree."
   ]
  }
 ],
 "metadata": {
  "kernelspec": {
   "display_name": "Python 3",
   "language": "python",
   "name": "python3"
  },
  "language_info": {
   "codemirror_mode": {
    "name": "ipython",
    "version": 3
   },
   "file_extension": ".py",
   "mimetype": "text/x-python",
   "name": "python",
   "nbconvert_exporter": "python",
   "pygments_lexer": "ipython3",
   "version": "3.12.5"
  }
 },
 "nbformat": 4,
 "nbformat_minor": 5
}
