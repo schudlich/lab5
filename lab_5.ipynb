{
 "cells": [
  {
   "cell_type": "markdown",
   "id": "b36e4902",
   "metadata": {},
   "source": [
    "# Lab 5\n",
    "\n",
    "Problem 1"
   ]
  },
  {
   "cell_type": "code",
   "execution_count": 1,
   "id": "6a0fac04",
   "metadata": {},
   "outputs": [
    {
     "name": "stdout",
     "output_type": "stream",
     "text": [
      "https://www.loc.gov/resource/cph.3f05183/ https://www.loc.gov/resource/fsa.8d24709/ https://www.loc.gov/resource/highsm.64003/\n"
     ]
    }
   ],
   "source": [
    "import requests\n",
    "import json\n",
    "url = \"https://www.loc.gov\"\n",
    "lccn_url = \"https://lccn.loc.gov\"\n",
    "uri1 = url + \"/resource/cph.3f05183/\"\n",
    "uri2 = url + \"/resource/fsa.8d24709/\"\n",
    "uri3 = url + \"/resource/highsm.64003/\"\n",
    "\n",
    "print (uri1, uri2, uri3)"
   ]
  },
  {
   "cell_type": "markdown",
   "id": "80fe2e03",
   "metadata": {},
   "source": [
    "Problem 2 / 3"
   ]
  },
  {
   "cell_type": "code",
   "execution_count": 2,
   "id": "9e611dc7",
   "metadata": {},
   "outputs": [],
   "source": [
    "parameters = {'fo':'json', }\n",
    "r1 = requests.get(uri1, params=parameters)\n",
    "r1 = r1.json()\n",
    "r2 = requests.get(uri2, params=parameters)\n",
    "r2 = r2.json()\n",
    "r3 = requests.get(uri3, params=parameters)\n",
    "r3 = r3.json()"
   ]
  },
  {
   "cell_type": "markdown",
   "id": "4ad5d933",
   "metadata": {},
   "source": [
    "The above works, but it won't actually save the JSON. Suggest writing to a file, as discussed in class on Oct 5."
   ]
  },
  {
   "cell_type": "code",
   "execution_count": 7,
   "id": "4b3b8139",
   "metadata": {},
   "outputs": [
    {
     "name": "stdout",
     "output_type": "stream",
     "text": [
      "https://www.loc.gov/98508155\n"
     ]
    }
   ],
   "source": [
    "r1lccn = r1[\"item\"][\"library_of_congress_control_number\"]\n",
    "r2lccn = r2[\"item\"][\"library_of_congress_control_number\"]\n",
    "r3lccn = r3[\"item\"][\"library_of_congress_control_number\"]\n",
    "\n",
    "permalink1 = url + \"/\" + r1lccn\n",
    "print(permalink1)\n",
    "permalink2 = uri2 + r2lccn\n",
    "permalink3 = uri3 + r3lccn\n"
   ]
  },
  {
   "cell_type": "markdown",
   "id": "458d5e7b",
   "metadata": {},
   "source": [
    "This response will append the LCCN to the original URI, but you want to append it to loc.gov. See suggestion"
   ]
  },
  {
   "cell_type": "markdown",
   "id": "ac80faa6",
   "metadata": {},
   "source": [
    "Problem 4"
   ]
  },
  {
   "cell_type": "code",
   "execution_count": 3,
   "id": "f9df1264",
   "metadata": {},
   "outputs": [
    {
     "name": "stdout",
     "output_type": "stream",
     "text": [
      "<Response [403]>\n"
     ]
    }
   ],
   "source": [
    "import requests\n",
    "url = \"https://www.loc.gov/search/\"\n",
    "searchterm = input(\"What do you want to search for? \")\n",
    "searchparams = {\"q\" : searchterm}\n",
    "searchtest = requests.get(url, params=searchparams)\n",
    "print(searchtest)"
   ]
  }
 ],
 "metadata": {
  "kernelspec": {
   "display_name": "3.12.0",
   "language": "python",
   "name": "python3"
  },
  "language_info": {
   "codemirror_mode": {
    "name": "ipython",
    "version": 3
   },
   "file_extension": ".py",
   "mimetype": "text/x-python",
   "name": "python",
   "nbconvert_exporter": "python",
   "pygments_lexer": "ipython3",
   "version": "3.12.0"
  }
 },
 "nbformat": 4,
 "nbformat_minor": 5
}
